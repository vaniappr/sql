{
  "nbformat": 4,
  "nbformat_minor": 0,
  "metadata": {
    "colab": {
      "provenance": []
    },
    "kernelspec": {
      "name": "python3",
      "display_name": "Python 3"
    },
    "language_info": {
      "name": "python"
    }
  },
  "cells": [
    {
      "cell_type": "code",
      "execution_count": null,
      "metadata": {
        "id": "zpYykSwb_EgJ"
      },
      "outputs": [],
      "source": [
        "import sqlite3\n",
        "\n",
        "# Create a new SQLite database (in-memory for now)\n",
        "conn = sqlite3.connect(\"hotel_db.sqlite\")\n",
        "cursor = conn.cursor()\n"
      ]
    },
    {
      "cell_type": "code",
      "source": [
        "# List of all tables to drop\n",
        "tables = [\n",
        "    \"SITE\",\n",
        "    \"HOTEL\",\n",
        "    \"ROOM\",\n",
        "    \"CUSTOMER\",\n",
        "    \"BOOKING\",\n",
        "    \"REVIEW\",\n",
        "    \"EMPLOYEE\",\n",
        "    \"CONTRACT\",\n",
        "    \"PAYMENT\",\n",
        "    \"HOTEL_FACILITY\",\n",
        "    \"HOTEL_FACILITY_ASSIGNMENT\"\n",
        "]\n",
        "\n",
        "# Execute DROP TABLE for each table\n",
        "for table in tables:\n",
        "    cursor.execute(f\"DROP TABLE IF EXISTS {table}\")\n",
        "    print(f\"❌ Table {table} deleted\")\n",
        "\n",
        "# Commit changes\n",
        "conn.commit()\n",
        "\n",
        "print(\"✅ All tables deleted successfully!\")\n"
      ],
      "metadata": {
        "colab": {
          "base_uri": "https://localhost:8080/"
        },
        "id": "SHjQqAuvFnqL",
        "outputId": "b215d6ac-c545-4c8d-a3ce-ea9bba078e7e"
      },
      "execution_count": null,
      "outputs": [
        {
          "output_type": "stream",
          "name": "stdout",
          "text": [
            "❌ Table SITE deleted\n",
            "❌ Table HOTEL deleted\n",
            "❌ Table ROOM deleted\n",
            "❌ Table CUSTOMER deleted\n",
            "❌ Table BOOKING deleted\n",
            "❌ Table REVIEW deleted\n",
            "❌ Table EMPLOYEE deleted\n",
            "❌ Table CONTRACT deleted\n",
            "❌ Table PAYMENT deleted\n",
            "❌ Table HOTEL_FACILITY deleted\n",
            "❌ Table HOTEL_FACILITY_ASSIGNMENT deleted\n",
            "✅ All tables deleted successfully!\n"
          ]
        }
      ]
    },
    {
      "cell_type": "code",
      "source": [
        "import sqlite3\n",
        "\n",
        "# Connect to SQLite database\n",
        "conn = sqlite3.connect(\"hotel_db.sqlite\")  # Connects to or creates 'hotel_db.sqlite'\n",
        "cursor = conn.cursor()\n",
        "\n",
        "# List of SQL table creation queries\n",
        "create_queries = [\n",
        "    \"\"\"CREATE TABLE SITE (\n",
        "        Site_id INTEGER PRIMARY KEY,\n",
        "        Site_name TEXT NOT NULL,\n",
        "        Location_postcode TEXT NOT NULL,\n",
        "        Location_city TEXT NOT NULL\n",
        "    );\"\"\",\n",
        "\n",
        "    \"\"\"CREATE TABLE HOTEL (\n",
        "        Hotel_id INTEGER PRIMARY KEY,\n",
        "        Site_id INTEGER NOT NULL,\n",
        "        Floor INTEGER NOT NULL CHECK (Floor >= 0),\n",
        "        FOREIGN KEY (Site_id) REFERENCES SITE(Site_id) ON DELETE CASCADE\n",
        "    );\"\"\",\n",
        "\n",
        "    \"\"\"CREATE TABLE ROOM (\n",
        "        Room_id INTEGER PRIMARY KEY,\n",
        "        Hotel_id INTEGER NOT NULL,\n",
        "        Room_type TEXT NOT NULL,\n",
        "        Room_rate REAL NOT NULL CHECK (Room_rate >= 0),\n",
        "        FOREIGN KEY (Hotel_id) REFERENCES HOTEL(Hotel_id) ON DELETE CASCADE\n",
        "    );\"\"\",\n",
        "\n",
        "    \"\"\"CREATE TABLE CUSTOMER (\n",
        "        Customer_id INTEGER PRIMARY KEY,\n",
        "        First_name TEXT NOT NULL,\n",
        "        Surname TEXT NOT NULL,\n",
        "        Email TEXT UNIQUE NOT NULL,\n",
        "        Membership TEXT CHECK (Membership IN ('None', 'Silver', 'Gold')),\n",
        "        Phone_Number TEXT NOT NULL CHECK (length(Phone_Number) >= 10)\n",
        "    );\"\"\",\n",
        "\n",
        "    \"\"\"CREATE TABLE BOOKING (\n",
        "        Booking_id INTEGER PRIMARY KEY,\n",
        "        Room_id INTEGER NOT NULL,\n",
        "        Customer_id INTEGER NOT NULL,\n",
        "        Booking_date DATE NOT NULL,\n",
        "        Stay_purpose TEXT CHECK (Stay_purpose IN ('Business', 'Leisure')),\n",
        "        Num_of_adult INTEGER NOT NULL CHECK (Num_of_adult >= 0),\n",
        "        Check_in_date DATE NOT NULL,\n",
        "        Check_out_date DATE NOT NULL,\n",
        "        Check_in_time TIME NOT NULL,\n",
        "        Check_out_time TIME NOT NULL,\n",
        "        Num_of_car INTEGER CHECK (Num_of_car >= 0),\n",
        "        Booking_type TEXT CHECK (Booking_type IN ('Online', 'Phone', 'Walk-in')),\n",
        "        FOREIGN KEY (Room_id) REFERENCES ROOM(Room_id) ON DELETE CASCADE,\n",
        "        FOREIGN KEY (Customer_id) REFERENCES CUSTOMER(Customer_id) ON DELETE CASCADE\n",
        "    );\"\"\",\n",
        "\n",
        "    \"\"\"CREATE TABLE REVIEW (\n",
        "        Review_id INTEGER PRIMARY KEY,\n",
        "        Booking_id INTEGER NOT NULL,\n",
        "        Satisfaction_score INTEGER NOT NULL,\n",
        "        FOREIGN KEY (Booking_id) REFERENCES BOOKING(Booking_id) ON DELETE CASCADE\n",
        "    );\"\"\",\n",
        "\n",
        "    \"\"\"CREATE TABLE EMPLOYEE (\n",
        "        Employee_id INTEGER PRIMARY KEY,\n",
        "        Hotel_id INTEGER NOT NULL,\n",
        "        First_name TEXT NOT NULL,\n",
        "        Surname TEXT NOT NULL,\n",
        "        Gender TEXT,\n",
        "        DOB DATE NOT NULL,\n",
        "        FOREIGN KEY (Hotel_id) REFERENCES HOTEL(Hotel_id) ON DELETE CASCADE\n",
        "    );\"\"\",\n",
        "\n",
        "    \"\"\"CREATE TABLE CONTRACT (\n",
        "        Contract_id INTEGER PRIMARY KEY,\n",
        "        Employee_id INTEGER NOT NULL,\n",
        "        Hire_date DATE NOT NULL,\n",
        "        End_date DATE,\n",
        "        Salary REAL NOT NULL CHECK (Salary > 0),\n",
        "        Job_type TEXT NOT NULL,\n",
        "        FOREIGN KEY (Employee_id) REFERENCES EMPLOYEE(Employee_id) ON DELETE CASCADE\n",
        "    );\"\"\",\n",
        "\n",
        "    \"\"\"CREATE TABLE PAYMENT (\n",
        "        Payment_id INTEGER PRIMARY KEY,\n",
        "        Booking_id INTEGER NOT NULL,\n",
        "        Base_charge REAL NOT NULL CHECK (Base_charge >= 0),\n",
        "        Total_Additional_Charges REAL DEFAULT 0 CHECK (Total_Additional_charges >= 0),\n",
        "        Total_amount_due REAL NOT NULL CHECK (Total_amount_due >= 0),\n",
        "        Payment_method TEXT,\n",
        "        Payment_date DATE NOT NULL,\n",
        "        FOREIGN KEY (Booking_id) REFERENCES BOOKING(Booking_id) ON DELETE CASCADE\n",
        "    );\"\"\",\n",
        "\n",
        "    \"\"\"CREATE TABLE HOTEL_FACILITY (\n",
        "        Hotelfacility_code INTEGER PRIMARY KEY,\n",
        "        Facility_name TEXT NOT NULL\n",
        "    );\"\"\",\n",
        "\n",
        "    \"\"\"CREATE TABLE HOTEL_FACILITY_ASSIGNMENT (\n",
        "        Hotel_id INTEGER NOT NULL,\n",
        "        Hotelfacility_code INTEGER NOT NULL,\n",
        "        PRIMARY KEY (Hotel_id, Hotelfacility_code),\n",
        "        FOREIGN KEY (Hotel_id) REFERENCES HOTEL(Hotel_id) ON DELETE CASCADE,\n",
        "        FOREIGN KEY (Hotelfacility_code) REFERENCES HOTEL_FACILITY(Hotelfacility_code) ON DELETE CASCADE\n",
        "    );\"\"\"\n",
        "]\n",
        "\n",
        "# Execute each query separately to avoid SQLite multi-statement execution errors\n",
        "for query in create_queries:\n",
        "    cursor.execute(query)\n",
        "\n",
        "# Commit changes and close connection\n",
        "conn.commit()\n",
        "conn.close()\n",
        "\n",
        "# Confirm table creation\n",
        "print(\"All tables created successfully in SQLite database 'hotel_db.sqlite'!\")\n"
      ],
      "metadata": {
        "colab": {
          "base_uri": "https://localhost:8080/"
        },
        "id": "PvJbgmEi_jKa",
        "outputId": "a8b967be-8ade-480d-a373-7a15e79f1df3"
      },
      "execution_count": null,
      "outputs": [
        {
          "output_type": "stream",
          "name": "stdout",
          "text": [
            "All tables created successfully in SQLite database 'hotel_db.sqlite'!\n"
          ]
        }
      ]
    },
    {
      "cell_type": "code",
      "source": [
        "import pandas as pd\n",
        "import sqlite3\n"
      ],
      "metadata": {
        "id": "juP1ngmG_lS_"
      },
      "execution_count": null,
      "outputs": []
    },
    {
      "cell_type": "code",
      "source": [
        "# Load the dataset\n",
        "file_path = \"complete_hotel_dataset (5).xlsx\"  # Change this to your uploaded file name\n",
        "xls = pd.ExcelFile(file_path)\n",
        "\n",
        "# Connect to SQLite\n",
        "conn = sqlite3.connect(\"hotel_db.sqlite\")\n",
        "cursor = conn.cursor()\n"
      ],
      "metadata": {
        "id": "MsTkHn04_laE"
      },
      "execution_count": null,
      "outputs": []
    },
    {
      "cell_type": "code",
      "source": [
        "# Function to insert data safely\n",
        "def insert_data_from_df(df, table_name):\n",
        "    df.to_sql(table_name, conn, if_exists=\"replace\", index=False)\n",
        "\n",
        "# Load each sheet into corresponding tables\n",
        "tables = {\n",
        "    \"SITE\": \"SITE\",\n",
        "    \"HOTEL\": \"HOTEL\",\n",
        "    \"ROOM\": \"ROOM\",\n",
        "    \"CUSTOMER\": \"CUSTOMER\",\n",
        "    \"BOOKING\": \"BOOKING\",\n",
        "    \"REVIEW\": \"REVIEW\",\n",
        "    \"EMPLOYEE\": \"EMPLOYEE\",\n",
        "    \"CONTRACT\": \"CONTRACT\",\n",
        "    \"PAYMENT\": \"PAYMENT\",\n",
        "    \"HOTEL_FACILITY\": \"HOTEL_FACILITY\",\n",
        "    \"HOTEL_FACILITY_ASSIGNMENT\": \"HOTEL_FACILITY_ASSIGNMENT\"\n",
        "}\n",
        "\n",
        "for sheet_name, table_name in tables.items():\n",
        "    df = xls.parse(sheet_name)\n",
        "    insert_data_from_df(df, table_name)\n",
        "    print(f\"✅ Data inserted into {table_name}\")\n",
        "\n",
        "# Commit and close connection\n",
        "conn.commit()\n",
        "conn.close()\n",
        "print(\"All data successfully inserted into SQLite!\")\n"
      ],
      "metadata": {
        "colab": {
          "base_uri": "https://localhost:8080/"
        },
        "id": "zOl9FXaX_lcx",
        "outputId": "c22b3375-face-4366-8acc-c00cfe5b7252"
      },
      "execution_count": null,
      "outputs": [
        {
          "output_type": "stream",
          "name": "stdout",
          "text": [
            "✅ Data inserted into SITE\n",
            "✅ Data inserted into HOTEL\n",
            "✅ Data inserted into ROOM\n",
            "✅ Data inserted into CUSTOMER\n",
            "✅ Data inserted into BOOKING\n",
            "✅ Data inserted into REVIEW\n",
            "✅ Data inserted into EMPLOYEE\n",
            "✅ Data inserted into CONTRACT\n",
            "✅ Data inserted into PAYMENT\n",
            "✅ Data inserted into HOTEL_FACILITY\n",
            "✅ Data inserted into HOTEL_FACILITY_ASSIGNMENT\n",
            "All data successfully inserted into SQLite!\n"
          ]
        }
      ]
    },
    {
      "cell_type": "markdown",
      "source": [
        "# Branch Performance Comparison"
      ],
      "metadata": {
        "id": "biF8C9LG5Wg4"
      }
    },
    {
      "cell_type": "code",
      "source": [
        " #yearly revenue per hotel\n",
        "\n",
        "\n",
        "conn = sqlite3.connect(\"hotel_db.sqlite\")\n",
        "cursor = conn.cursor()\n",
        "\n",
        "# Correct way to execute SQL query in Colab\n",
        "query = \"\"\"\n",
        "\n",
        "SELECT\n",
        "    s.Location_city AS Branch,\n",
        "    strftime('%Y', b.Booking_date) AS Year,  -- Extracts only the year\n",
        "    SUM(p.Base_charge + COALESCE(p.total_Additional_charges, 0)) AS Total_Revenue\n",
        "FROM HOTEL h\n",
        "JOIN SITE s ON h.Site_id = s.Site_id\n",
        "JOIN ROOM r ON h.Hotel_ID = r.Hotel_ID\n",
        "JOIN BOOKING b ON r.Room_id = b.Room_id\n",
        "LEFT JOIN PAYMENT p ON b.Booking_id = p.Booking_id\n",
        "GROUP BY Branch, Year\n",
        "ORDER BY Year DESC, Total_Revenue DESC;\n",
        "\n",
        "\"\"\"\n",
        "\n",
        "# Execute the query\n",
        "cursor.execute(query)\n",
        "\n",
        "# Fetch and print results\n",
        "results = cursor.fetchall()\n",
        "for row in results:\n",
        "    print(row)\n",
        "\n",
        "# Close connection\n",
        "conn.close()"
      ],
      "metadata": {
        "colab": {
          "base_uri": "https://localhost:8080/"
        },
        "id": "yBCP_LAi_llp",
        "outputId": "87bc233d-c959-4e7d-8400-77f5a45dc6ff"
      },
      "execution_count": null,
      "outputs": [
        {
          "output_type": "stream",
          "name": "stdout",
          "text": [
            "('Edinburgh', '2025', 79510)\n",
            "('London', '2025', 19225)\n",
            "('Manchester', '2025', 14845)\n",
            "('Southampton', '2025', 14125)\n",
            "('Birmingham', '2025', 10205)\n",
            "('London', '2024', 349585)\n",
            "('Edinburgh', '2024', 306900)\n",
            "('Manchester', '2024', 237510)\n",
            "('Birmingham', '2024', 230495)\n",
            "('Southampton', '2024', 226815)\n"
          ]
        }
      ]
    },
    {
      "cell_type": "code",
      "source": [
        "# average price per room in each location\n",
        "\n",
        "conn = sqlite3.connect(\"hotel_db.sqlite\")\n",
        "cursor = conn.cursor()\n",
        "\n",
        "query = \"\"\"\n",
        "SELECT\n",
        "    s.Location_city,\n",
        "    AVG(r.Room_rate) AS Average_Price_Per_Room\n",
        "FROM SITE s\n",
        "JOIN HOTEL h ON s.Site_id = h.Site_id\n",
        "JOIN ROOM r ON h.Hotel_id = r.Hotel_id\n",
        "GROUP BY s.Location_city;\n",
        "\"\"\"\n",
        "\n",
        "cursor.execute(query)\n",
        "results = cursor.fetchall()\n",
        "\n",
        "for row in results:\n",
        "    print(row)\n",
        "\n",
        "conn.close()\n"
      ],
      "metadata": {
        "colab": {
          "base_uri": "https://localhost:8080/"
        },
        "id": "fn6CFdbenoOm",
        "outputId": "9363237f-212c-4975-8159-0357b1ef7457"
      },
      "execution_count": null,
      "outputs": [
        {
          "output_type": "stream",
          "name": "stdout",
          "text": [
            "('Birmingham', 150.0)\n",
            "('Edinburgh', 165.5)\n",
            "('London', 212.5)\n",
            "('Manchester', 161.5)\n",
            "('Southampton', 101.25)\n"
          ]
        }
      ]
    },
    {
      "cell_type": "markdown",
      "source": [
        "# Employee Performance Analysis"
      ],
      "metadata": {
        "id": "OxzS0ORr5QHU"
      }
    },
    {
      "cell_type": "code",
      "source": [
        "# employee salary distribution based on job type\n",
        "\n",
        "conn = sqlite3.connect(\"hotel_db.sqlite\")\n",
        "cursor = conn.cursor()\n",
        "\n",
        "query = \"\"\"\n",
        "SELECT\n",
        "    c.Job_type,\n",
        "    ROUND(AVG(c.Salary), 0) AS Average_Salary\n",
        "FROM CONTRACT c\n",
        "GROUP BY c.Job_type\n",
        "ORDER BY Average_Salary DESC;\n",
        "\"\"\"\n",
        "\n",
        "cursor.execute(query)\n",
        "results = cursor.fetchall()\n",
        "\n",
        "df = pd.DataFrame(results, columns=['Job Type', 'Average Salary'])\n",
        "print(df)\n",
        "\n",
        "conn.close()\n"
      ],
      "metadata": {
        "colab": {
          "base_uri": "https://localhost:8080/"
        },
        "id": "RYakLAqt6WBO",
        "outputId": "caf9ea6b-07b7-43b0-d2ad-628323a172ce"
      },
      "execution_count": null,
      "outputs": [
        {
          "output_type": "stream",
          "name": "stdout",
          "text": [
            "                   Job Type  Average Salary\n",
            "0                   Manager         51512.0\n",
            "1                      Chef         36061.0\n",
            "2                  Security         31758.0\n",
            "3              Receptionist         26886.0\n",
            "4              Housekeeping         25290.0\n",
            "5  Housekeeping (Part-time)         20358.0\n",
            "6  Receptionist (Part-time)         16000.0\n"
          ]
        }
      ]
    },
    {
      "cell_type": "code",
      "source": [
        "# active employees (the one with no end date) across branches\n",
        "\n",
        "conn = sqlite3.connect(\"hotel_db.sqlite\")\n",
        "cursor = conn.cursor()\n",
        "\n",
        "query = \"\"\"\n",
        "SELECT\n",
        "    s.Location_city AS Branch,\n",
        "    COUNT(e.Employee_id) AS Active_Employees\n",
        "FROM EMPLOYEE e\n",
        "JOIN HOTEL h ON e.Hotel_id = h.Hotel_id\n",
        "JOIN SITE s ON h.Site_id = s.Site_id\n",
        "JOIN CONTRACT c ON e.Employee_id = c.Employee_id\n",
        "WHERE c.End_date IS NULL\n",
        "GROUP BY Branch;\n",
        "\"\"\"\n",
        "\n",
        "cursor.execute(query)\n",
        "results = cursor.fetchall()\n",
        "\n",
        "for row in results:\n",
        "    print(row)\n",
        "\n",
        "conn.close()\n"
      ],
      "metadata": {
        "colab": {
          "base_uri": "https://localhost:8080/"
        },
        "id": "Xpmk3V0I6Usl",
        "outputId": "2f1efa70-e1a5-4af9-d41c-5514e6438ad1"
      },
      "execution_count": null,
      "outputs": [
        {
          "output_type": "stream",
          "name": "stdout",
          "text": [
            "('Birmingham', 11)\n",
            "('Edinburgh', 24)\n",
            "('London', 34)\n",
            "('Manchester', 15)\n",
            "('Southampton', 17)\n"
          ]
        }
      ]
    },
    {
      "cell_type": "code",
      "source": [
        "# salary comparison london and southampton based on job type\n",
        "\n",
        "import sqlite3\n",
        "\n",
        "conn = sqlite3.connect(\"hotel_db.sqlite\")\n",
        "cursor = conn.cursor()\n",
        "\n",
        "# Query to compare salaries in London and Southampton based on job type\n",
        "query = \"\"\"\n",
        "SELECT\n",
        "    c.Job_type,\n",
        "    s.Location_city,\n",
        "    AVG(c.Salary) AS Average_Salary\n",
        "FROM CONTRACT c\n",
        "JOIN EMPLOYEE e ON c.Employee_id = e.Employee_id\n",
        "JOIN HOTEL h ON e.Hotel_id = h.Hotel_id\n",
        "JOIN SITE s ON h.Site_id = s.Site_id\n",
        "WHERE s.Location_city IN ('London', 'Southampton')\n",
        "GROUP BY c.Job_type, s.Location_city\n",
        "ORDER BY c.Job_type, s.Location_city;\n",
        "\"\"\"\n",
        "\n",
        "cursor.execute(query)\n",
        "results = cursor.fetchall()\n",
        "\n",
        "# Create a Pandas DataFrame for better visualization\n",
        "df = pd.DataFrame(results, columns=['Job Type', 'Location', 'Average Salary'])\n",
        "\n",
        "# Pivot the table for easier comparison\n",
        "pivot_df = df.pivot(index='Job Type', columns='Location', values='Average Salary')\n",
        "\n",
        "print(pivot_df)\n",
        "\n",
        "conn.close()\n"
      ],
      "metadata": {
        "colab": {
          "base_uri": "https://localhost:8080/"
        },
        "id": "maN-hg7h7YO2",
        "outputId": "86606469-d3c8-4807-a800-bc930c9f7c66"
      },
      "execution_count": null,
      "outputs": [
        {
          "output_type": "stream",
          "name": "stdout",
          "text": [
            "Location                        London   Southampton\n",
            "Job Type                                            \n",
            "Chef                      35836.166667  35538.714286\n",
            "Housekeeping              26063.000000  25492.000000\n",
            "Housekeeping (Part-time)  20169.625000  35326.000000\n",
            "Manager                   48417.583333  54495.777778\n",
            "Receptionist              27375.375000  27612.750000\n",
            "Receptionist (Part-time)  16339.400000  15291.583333\n",
            "Security                  37120.000000  33795.000000\n"
          ]
        }
      ]
    },
    {
      "cell_type": "code",
      "source": [
        "# employee turnover\n",
        "\n",
        "import pandas as pd\n",
        "conn = sqlite3.connect(\"hotel_db.sqlite\")\n",
        "cursor = conn.cursor()\n",
        "\n",
        "query_turnover = \"\"\"\n",
        "SELECT\n",
        "    s.Location_city AS Hotel_Location,\n",
        "    COUNT(DISTINCT CASE WHEN c.End_date IS NOT NULL THEN e.Employee_id END) AS Employee_Turnover,\n",
        "    COUNT(DISTINCT CASE WHEN c.End_date IS NOT NULL THEN e.Employee_id END) * 100.0 /\n",
        "    COUNT(DISTINCT e.Employee_id) AS Turnover_Rate\n",
        "FROM EMPLOYEE e\n",
        "JOIN HOTEL h ON e.Hotel_id = h.Hotel_ID\n",
        "JOIN SITE s ON h.Site_id = s.Site_id\n",
        "JOIN CONTRACT c ON e.Employee_id = c.Employee_id\n",
        "GROUP BY Hotel_Location\n",
        "ORDER BY Employee_Turnover DESC;\n",
        "\n",
        "\"\"\"\n",
        "\n",
        "# Execute query\n",
        "cursor.execute(query_turnover)\n",
        "results = cursor.fetchall()\n",
        "\n",
        "# Convert results to DataFrame\n",
        "df_turnover = pd.DataFrame(results, columns=['Hotel Location', 'Employee Turnover', 'Turnover Rate (%)'])\n",
        "print(df_turnover)\n",
        "# Close the connection\n",
        "conn.close()\n",
        "\n"
      ],
      "metadata": {
        "colab": {
          "base_uri": "https://localhost:8080/"
        },
        "id": "OSPkSo_BkLrK",
        "outputId": "e001399a-cb4a-4578-f4b2-acc96257ec2f"
      },
      "execution_count": null,
      "outputs": [
        {
          "output_type": "stream",
          "name": "stdout",
          "text": [
            "  Hotel Location  Employee Turnover  Turnover Rate (%)\n",
            "0    Southampton                 21          87.500000\n",
            "1         London                 20          86.956522\n",
            "2      Edinburgh                 15          68.181818\n",
            "3     Birmingham                 15          57.692308\n",
            "4     Manchester                 10          40.000000\n"
          ]
        }
      ]
    },
    {
      "cell_type": "markdown",
      "source": [
        "# Customer Satisfaction and Loyalty"
      ],
      "metadata": {
        "id": "lI0jtbET4818"
      }
    },
    {
      "cell_type": "code",
      "source": [
        "# average guest review score in each location\n",
        "\n",
        "import sqlite3\n",
        "\n",
        "# Connect to the SQLite database\n",
        "conn = sqlite3.connect(\"hotel_db.sqlite\")\n",
        "cursor = conn.cursor()\n",
        "\n",
        "# SQL query to calculate the average guest review score in each location\n",
        "query = \"\"\"\n",
        "SELECT\n",
        "    s.Location_city,\n",
        "    AVG(r.Satisfaction_score) AS Average_Review_Score\n",
        "FROM REVIEW r\n",
        "JOIN BOOKING b ON r.Booking_id = b.Booking_id\n",
        "JOIN ROOM ro ON b.Room_id = ro.Room_id\n",
        "JOIN HOTEL h ON ro.Hotel_id = h.Hotel_ID\n",
        "JOIN SITE s ON h.Site_id = s.Site_id\n",
        "GROUP BY s.Location_city;\n",
        "\"\"\"\n",
        "\n",
        "# Execute the query\n",
        "cursor.execute(query)\n",
        "\n",
        "# Fetch and print the results\n",
        "results = cursor.fetchall()\n",
        "for row in results:\n",
        "  print(row)\n",
        "\n",
        "# Close the connection\n",
        "conn.close()\n"
      ],
      "metadata": {
        "colab": {
          "base_uri": "https://localhost:8080/"
        },
        "id": "0B1dpmNt3U0H",
        "outputId": "355ccd6d-b614-4e18-d84c-c66e4652ce9c"
      },
      "execution_count": null,
      "outputs": [
        {
          "output_type": "stream",
          "name": "stdout",
          "text": [
            "('Birmingham', 5.888372093023256)\n",
            "('Edinburgh', 6.2720156555773)\n",
            "('London', 6.225563909774436)\n",
            "('Manchester', 5.7091412742382275)\n",
            "('Southampton', 6.015748031496063)\n"
          ]
        }
      ]
    },
    {
      "cell_type": "code",
      "source": [
        "# customer satisfaction score average by membership\n",
        "\n",
        "import sqlite3\n",
        "\n",
        "# Connect to the SQLite database\n",
        "conn = sqlite3.connect(\"hotel_db.sqlite\")\n",
        "cursor = conn.cursor()\n",
        "\n",
        "# SQL query to calculate average customer satisfaction score by membership\n",
        "query = \"\"\"\n",
        "SELECT\n",
        "    c.Membership,\n",
        "    AVG(r.Satisfaction_score) AS Average_Satisfaction_Score\n",
        "FROM CUSTOMER c\n",
        "JOIN BOOKING b ON c.Customer_id = b.Customer_id\n",
        "JOIN REVIEW r ON b.Booking_id = r.Booking_id\n",
        "GROUP BY c.Membership;\n",
        "\"\"\"\n",
        "\n",
        "# Execute the query\n",
        "cursor.execute(query)\n",
        "\n",
        "# Fetch the results into a Pandas DataFrame\n",
        "results = cursor.fetchall()\n",
        "df = pd.DataFrame(results, columns=['Membership', 'Average_Satisfaction_Score'])\n",
        "\n",
        "# Print the DataFrame\n",
        "print(df)\n",
        "\n",
        "# Close the connection\n",
        "conn.close()\n"
      ],
      "metadata": {
        "colab": {
          "base_uri": "https://localhost:8080/"
        },
        "id": "imGvrNV_4lO-",
        "outputId": "8cb93dbf-4c84-4a5f-f624-b64b2b06f811"
      },
      "execution_count": null,
      "outputs": [
        {
          "output_type": "stream",
          "name": "stdout",
          "text": [
            "  Membership  Average_Satisfaction_Score\n",
            "0       None                    2.467412\n",
            "1       Gold                    9.013678\n",
            "2     Silver                    5.981447\n"
          ]
        }
      ]
    },
    {
      "cell_type": "code",
      "source": [
        "# 10 customers with highest number of bookings\n",
        "\n",
        "import sqlite3\n",
        "\n",
        "# Connect to the SQLite database\n",
        "conn = sqlite3.connect(\"hotel_db.sqlite\")\n",
        "cursor = conn.cursor()\n",
        "\n",
        "# SQL query to find the top 10 customers with the highest number of bookings\n",
        "query = \"\"\"\n",
        "SELECT\n",
        "    c.Customer_id,\n",
        "    c.First_name,\n",
        "    c.Surname,\n",
        "    COUNT(b.Booking_id) AS TotalBookings\n",
        "FROM CUSTOMER AS c\n",
        "JOIN BOOKING AS b ON c.Customer_id = b.Customer_id\n",
        "GROUP BY c.Customer_id, c.First_name, c.Surname\n",
        "ORDER BY TotalBookings DESC\n",
        "LIMIT 10;\n",
        "\"\"\"\n",
        "\n",
        "# Execute the query\n",
        "cursor.execute(query)\n",
        "\n",
        "# Fetch and print the results\n",
        "results = cursor.fetchall()\n",
        "for row in results:\n",
        "    print(row)\n",
        "\n",
        "# Close the connection\n",
        "conn.close()\n"
      ],
      "metadata": {
        "colab": {
          "base_uri": "https://localhost:8080/"
        },
        "id": "J4RfswtA3jx8",
        "outputId": "cb9ff32b-0d1b-44bf-e246-8fb72c4bf291"
      },
      "execution_count": null,
      "outputs": [
        {
          "output_type": "stream",
          "name": "stdout",
          "text": [
            "(67, 'Troy', 'Hester', 19)\n",
            "(287, 'Linda', 'Hines', 19)\n",
            "(195, 'Ashley', 'Green', 18)\n",
            "(5, 'Todd', 'Taylor', 17)\n",
            "(56, 'Jennifer', 'Frazier', 17)\n",
            "(276, 'Nicole', 'Ross', 17)\n",
            "(54, 'Brenda', 'Hughes', 16)\n",
            "(64, 'Jonathan', 'Knox', 16)\n",
            "(95, 'Samuel', 'Newman', 16)\n",
            "(113, 'Jonathan', 'Shepard', 16)\n"
          ]
        }
      ]
    },
    {
      "cell_type": "code",
      "source": [
        "#this one is kinda tricky if we want to show it. the customer has high number of booking but low satisfaction score. so for now I only reporting the number of bookings\n",
        "\n",
        "#The SQL query retrieves loyal customers, their total bookings, average satisfaction scores, and categorizes them based on loyalty levels.\n",
        "# Connect to SQLite\n",
        "conn = sqlite3.connect(\"hotel_db.sqlite\")\n",
        "cursor = conn.cursor()\n",
        "\n",
        "# Correct way to execute SQL query in Colab\n",
        "query = \"\"\"\n",
        "SELECT\n",
        "    c.Customer_id,\n",
        "    c.First_name || ' ' || c.Surname AS Customer_Name,\n",
        "    COUNT(b.Booking_id) AS Total_Bookings,\n",
        "    ROUND(AVG(COALESCE(r.Satisfaction_score, 0)), 2) AS Avg_Satisfaction_Score,\n",
        "    CASE\n",
        "        WHEN COUNT(b.Booking_id) > 5 THEN 'High Loyalty'\n",
        "        WHEN COUNT(b.Booking_id) BETWEEN 2 AND 5 THEN 'Medium Loyalty'\n",
        "        ELSE 'Low Loyalty'\n",
        "    END AS Loyalty_Level\n",
        "FROM CUSTOMER c\n",
        "JOIN BOOKING b ON c.Customer_id = b.Customer_id\n",
        "LEFT JOIN REVIEW r ON b.Booking_id = r.Booking_id\n",
        "GROUP BY c.Customer_id, c.First_name, c.Surname\n",
        "ORDER BY Total_Bookings DESC;\n",
        "\"\"\"\n",
        "\n",
        "# Execute the query\n",
        "cursor.execute(query)\n",
        "\n",
        "# Fetch and print results\n",
        "results = cursor.fetchall()\n",
        "for row in results:\n",
        "    print(row)\n",
        "\n",
        "# Close connection\n",
        "conn.close()"
      ],
      "metadata": {
        "colab": {
          "base_uri": "https://localhost:8080/"
        },
        "id": "Rzzok9pR7oOM",
        "outputId": "3dfd7868-2710-4a9b-d0e0-81bb2b1bac5f"
      },
      "execution_count": null,
      "outputs": [
        {
          "output_type": "stream",
          "name": "stdout",
          "text": [
            "(67, 'Troy Hester', 19, 8.74, 'High Loyalty')\n",
            "(287, 'Linda Hines', 19, 3.89, 'High Loyalty')\n",
            "(195, 'Ashley Green', 18, 9.06, 'High Loyalty')\n",
            "(5, 'Todd Taylor', 17, 8.88, 'High Loyalty')\n",
            "(56, 'Jennifer Frazier', 17, 8.94, 'High Loyalty')\n",
            "(276, 'Nicole Ross', 17, 2.53, 'High Loyalty')\n",
            "(54, 'Brenda Hughes', 16, 8.56, 'High Loyalty')\n",
            "(64, 'Jonathan Knox', 16, 9.25, 'High Loyalty')\n",
            "(95, 'Samuel Newman', 16, 9.13, 'High Loyalty')\n",
            "(113, 'Jonathan Shepard', 16, 8.88, 'High Loyalty')\n",
            "(175, 'Laurie Garcia', 16, 9.19, 'High Loyalty')\n",
            "(197, 'Kelly Robinson', 16, 5.38, 'High Loyalty')\n",
            "(207, 'Christie Burch', 16, 4.44, 'High Loyalty')\n",
            "(226, 'Maria Brady', 16, 2.25, 'High Loyalty')\n",
            "(259, 'Lisa Simpson', 16, 2.88, 'High Loyalty')\n",
            "(26, 'Mark Williams', 15, 9.2, 'High Loyalty')\n",
            "(78, 'Benjamin Powell', 15, 9.2, 'High Loyalty')\n",
            "(110, 'Danny Johnson', 15, 9.07, 'High Loyalty')\n",
            "(123, 'Daniel Hahn', 15, 8.87, 'High Loyalty')\n",
            "(129, 'Rachel Williams', 15, 9.2, 'High Loyalty')\n",
            "(139, 'Lisa Peterson', 15, 9.2, 'High Loyalty')\n",
            "(166, 'Dana Guzman', 15, 8.87, 'High Loyalty')\n",
            "(170, 'Lisa Martinez', 15, 9.07, 'High Loyalty')\n",
            "(191, 'Kelly Gilbert', 15, 9.13, 'High Loyalty')\n",
            "(200, 'Sherri Todd', 15, 2.93, 'High Loyalty')\n",
            "(232, 'Christopher Miller', 15, 3.6, 'High Loyalty')\n",
            "(286, 'Daniel Jones', 15, 1.73, 'High Loyalty')\n",
            "(4, 'Nicole Gill', 14, 9.21, 'High Loyalty')\n",
            "(6, 'Jessica Wright', 14, 8.93, 'High Loyalty')\n",
            "(13, 'Wesley Jenkins', 14, 8.71, 'High Loyalty')\n",
            "(18, 'Daniel Benson', 14, 9.29, 'High Loyalty')\n",
            "(136, 'James Johnson', 14, 8.86, 'High Loyalty')\n",
            "(153, 'Tanya Rose', 14, 8.71, 'High Loyalty')\n",
            "(217, 'Connie Mccoy', 14, 1.36, 'High Loyalty')\n",
            "(249, 'Lisa Nelson', 14, 1.93, 'High Loyalty')\n",
            "(250, 'Natalie Acosta', 14, 2.0, 'High Loyalty')\n",
            "(261, 'Helen Watson', 14, 1.21, 'High Loyalty')\n",
            "(283, 'Kimberly Adams', 14, 1.29, 'High Loyalty')\n",
            "(72, 'Karen Martin', 13, 8.92, 'High Loyalty')\n",
            "(154, 'Heather Torres', 13, 8.92, 'High Loyalty')\n",
            "(172, 'Casey Salazar', 13, 9.15, 'High Loyalty')\n",
            "(216, 'Gabriel Atkinson', 13, 2.62, 'High Loyalty')\n",
            "(224, 'Sara Lowe', 13, 2.62, 'High Loyalty')\n",
            "(228, 'Brian Compton', 13, 3.85, 'High Loyalty')\n",
            "(272, 'Dana Carpenter', 13, 2.15, 'High Loyalty')\n",
            "(274, 'Andrew Rodriguez', 13, 2.23, 'High Loyalty')\n",
            "(30, 'Clayton Taylor', 12, 9.0, 'High Loyalty')\n",
            "(41, 'Kevin Dunn', 12, 9.08, 'High Loyalty')\n",
            "(104, 'Kelly Alexander', 12, 9.0, 'High Loyalty')\n",
            "(125, 'Tanner Garrison', 12, 9.33, 'High Loyalty')\n",
            "(178, 'Robert Martinez', 12, 8.5, 'High Loyalty')\n",
            "(194, 'Kelly Becker', 12, 9.0, 'High Loyalty')\n",
            "(253, 'Jeremiah Thompson', 12, 1.33, 'High Loyalty')\n",
            "(278, 'Kelsey Carter', 12, 3.17, 'High Loyalty')\n",
            "(296, 'John Cain', 12, 3.0, 'High Loyalty')\n",
            "(10, 'Chad Joseph', 11, 6.0, 'High Loyalty')\n",
            "(42, 'Taylor West', 11, 8.73, 'High Loyalty')\n",
            "(49, 'Eric Jackson', 11, 9.55, 'High Loyalty')\n",
            "(83, 'Johnathan Patterson', 11, 6.18, 'High Loyalty')\n",
            "(135, 'Terri Johnson', 11, 5.91, 'High Loyalty')\n",
            "(167, 'Victoria Olson', 11, 9.18, 'High Loyalty')\n",
            "(182, 'Jordan Hunter', 11, 6.09, 'High Loyalty')\n",
            "(184, 'Kara Gomez', 11, 5.82, 'High Loyalty')\n",
            "(267, 'Robert Fitzgerald', 11, 2.36, 'High Loyalty')\n",
            "(24, 'Amanda Mills', 10, 9.0, 'High Loyalty')\n",
            "(50, 'Susan Downs', 10, 5.9, 'High Loyalty')\n",
            "(179, 'Sharon Duarte', 10, 9.1, 'High Loyalty')\n",
            "(180, 'Maria Russo', 10, 6.0, 'High Loyalty')\n",
            "(187, 'Vanessa Burke', 10, 5.8, 'High Loyalty')\n",
            "(189, 'Madison Pineda', 10, 9.3, 'High Loyalty')\n",
            "(193, 'Steven Adkins', 10, 8.7, 'High Loyalty')\n",
            "(209, 'Max Ibarra', 10, 0.9, 'High Loyalty')\n",
            "(257, 'Paula Sullivan', 10, 2.2, 'High Loyalty')\n",
            "(290, 'Joseph Davis', 10, 1.8, 'High Loyalty')\n",
            "(295, 'Anthony Mccullough', 10, 2.9, 'High Loyalty')\n",
            "(298, 'Calvin Hernandez', 10, 2.9, 'High Loyalty')\n",
            "(22, 'Troy Glass', 9, 6.44, 'High Loyalty')\n",
            "(39, 'Jacob Francis', 9, 9.11, 'High Loyalty')\n",
            "(96, 'Steven Griffin', 9, 5.67, 'High Loyalty')\n",
            "(106, 'Bruce Smith', 9, 6.22, 'High Loyalty')\n",
            "(132, 'Scott Martin', 9, 5.56, 'High Loyalty')\n",
            "(134, 'Jordan Allen', 9, 5.89, 'High Loyalty')\n",
            "(144, 'Kevin Acevedo', 9, 5.56, 'High Loyalty')\n",
            "(157, 'John Ward', 9, 2.44, 'High Loyalty')\n",
            "(186, 'Gregory Goodwin', 9, 6.0, 'High Loyalty')\n",
            "(201, 'Eric Travis', 9, 3.0, 'High Loyalty')\n",
            "(11, 'Alicia Schwartz', 8, 6.5, 'High Loyalty')\n",
            "(17, 'Taylor Monroe', 8, 6.0, 'High Loyalty')\n",
            "(92, 'Jennifer Weber', 8, 5.75, 'High Loyalty')\n",
            "(97, 'Lance Burgess', 8, 5.88, 'High Loyalty')\n",
            "(98, 'Lee Mathews', 8, 6.0, 'High Loyalty')\n",
            "(103, 'Karen Booth', 8, 2.5, 'High Loyalty')\n",
            "(117, 'Derrick Dawson', 8, 5.25, 'High Loyalty')\n",
            "(122, 'Clinton Cox', 8, 5.5, 'High Loyalty')\n",
            "(130, 'Randy Mayo', 8, 6.25, 'High Loyalty')\n",
            "(150, 'Sara Tucker', 8, 6.0, 'High Loyalty')\n",
            "(152, 'Amanda Harrison', 8, 5.63, 'High Loyalty')\n",
            "(176, 'Nathan Henry', 8, 6.63, 'High Loyalty')\n",
            "(183, 'Timothy Robinson', 8, 6.38, 'High Loyalty')\n",
            "(188, 'Shawn Hutchinson', 8, 5.88, 'High Loyalty')\n",
            "(190, 'Michael Gilbert', 8, 5.63, 'High Loyalty')\n",
            "(206, 'Amanda Castillo', 8, 5.0, 'High Loyalty')\n",
            "(231, 'Brian Brown', 8, 3.13, 'High Loyalty')\n",
            "(242, 'Stephanie Berry', 8, 2.13, 'High Loyalty')\n",
            "(265, 'Denise Wilson', 8, 4.75, 'High Loyalty')\n",
            "(270, 'Robert Jones', 8, 2.5, 'High Loyalty')\n",
            "(279, 'Erica Reed', 8, 3.88, 'High Loyalty')\n",
            "(8, 'John Morales', 7, 1.57, 'High Loyalty')\n",
            "(14, 'Cassidy Cochran', 7, 2.43, 'High Loyalty')\n",
            "(15, 'John Beck', 7, 2.71, 'High Loyalty')\n",
            "(21, 'Mary Davis', 7, 5.86, 'High Loyalty')\n",
            "(23, 'Tyler Black', 7, 1.71, 'High Loyalty')\n",
            "(48, 'Jeremiah Sanchez', 7, 5.71, 'High Loyalty')\n",
            "(61, 'Shelley Thompson', 7, 6.14, 'High Loyalty')\n",
            "(66, 'Willie Nichols', 7, 2.71, 'High Loyalty')\n",
            "(80, 'Matthew Bennett', 7, 1.57, 'High Loyalty')\n",
            "(101, 'Anna Ballard', 7, 2.0, 'High Loyalty')\n",
            "(105, 'Christopher Ramos', 7, 2.29, 'High Loyalty')\n",
            "(107, 'Nancy Gibson', 7, 2.0, 'High Loyalty')\n",
            "(108, 'Bryce Stevens', 7, 6.57, 'High Loyalty')\n",
            "(121, 'Nicole Hester', 7, 6.14, 'High Loyalty')\n",
            "(126, 'Ryan Owens', 7, 6.29, 'High Loyalty')\n",
            "(131, 'Darius Mitchell', 7, 6.57, 'High Loyalty')\n",
            "(133, 'Rose Parrish', 7, 6.0, 'High Loyalty')\n",
            "(161, 'Kevin Berry', 7, 5.57, 'High Loyalty')\n",
            "(198, 'Traci Franco', 7, 3.43, 'High Loyalty')\n",
            "(215, 'Edward West', 7, 3.57, 'High Loyalty')\n",
            "(225, 'Jorge Patton', 7, 1.43, 'High Loyalty')\n",
            "(240, 'Dylan Young', 7, 2.14, 'High Loyalty')\n",
            "(248, 'Alvin King', 7, 2.14, 'High Loyalty')\n",
            "(258, 'Darren Patel', 7, 1.57, 'High Loyalty')\n",
            "(262, 'Sandra Li', 7, 4.29, 'High Loyalty')\n",
            "(281, 'Natalie James', 7, 1.71, 'High Loyalty')\n",
            "(300, 'Caroline Silva', 7, 1.86, 'High Loyalty')\n",
            "(1, 'Calvin Medina', 6, 2.0, 'High Loyalty')\n",
            "(27, 'John Lyons', 6, 2.33, 'High Loyalty')\n",
            "(38, 'David Arnold', 6, 6.0, 'High Loyalty')\n",
            "(40, 'Janet Watson', 6, 2.5, 'High Loyalty')\n",
            "(51, 'Rebecca Jones', 6, 6.0, 'High Loyalty')\n",
            "(52, 'Laura Morris', 6, 3.17, 'High Loyalty')\n",
            "(53, 'Matthew Garner', 6, 5.67, 'High Loyalty')\n",
            "(59, 'Michelle Boyd', 6, 3.0, 'High Loyalty')\n",
            "(68, 'Stacey Warren', 6, 5.67, 'High Loyalty')\n",
            "(74, 'Paula Gordon', 6, 2.83, 'High Loyalty')\n",
            "(82, 'Jason Roman', 6, 6.17, 'High Loyalty')\n",
            "(84, 'Todd Washington', 6, 6.5, 'High Loyalty')\n",
            "(85, 'Chad Gray', 6, 5.83, 'High Loyalty')\n",
            "(94, 'Allison Duncan', 6, 2.33, 'High Loyalty')\n",
            "(115, 'Brandi Davis', 6, 2.33, 'High Loyalty')\n",
            "(120, 'John Juarez', 6, 2.5, 'High Loyalty')\n",
            "(127, 'Jamie Castro', 6, 2.5, 'High Loyalty')\n",
            "(140, 'Micheal Guerrero', 6, 2.67, 'High Loyalty')\n",
            "(142, 'Joe Phillips', 6, 2.67, 'High Loyalty')\n",
            "(145, 'Jasmine Maldonado', 6, 5.83, 'High Loyalty')\n",
            "(146, 'Barry Chang', 6, 6.33, 'High Loyalty')\n",
            "(159, 'Robert Swanson', 6, 2.83, 'High Loyalty')\n",
            "(168, 'Mary Turner', 6, 2.0, 'High Loyalty')\n",
            "(173, 'Manuel Lewis', 6, 6.0, 'High Loyalty')\n",
            "(177, 'Glen Wood', 6, 6.0, 'High Loyalty')\n",
            "(205, 'Julie Martinez', 6, 1.83, 'High Loyalty')\n",
            "(239, 'Christine Malone', 6, 1.83, 'High Loyalty')\n",
            "(255, 'Kyle Howell', 6, 1.0, 'High Loyalty')\n",
            "(264, 'Zachary Torres', 6, 4.17, 'High Loyalty')\n",
            "(268, 'Nicholas Green', 6, 1.83, 'High Loyalty')\n",
            "(275, 'Preston Baldwin', 6, 2.83, 'High Loyalty')\n",
            "(284, 'Nicole Chapman', 6, 1.0, 'High Loyalty')\n",
            "(285, 'Daniel Smith', 6, 3.33, 'High Loyalty')\n",
            "(289, 'Rebecca Sherman', 6, 1.83, 'High Loyalty')\n",
            "(16, 'Stephen Cain', 5, 5.8, 'Medium Loyalty')\n",
            "(34, 'Mathew Neal', 5, 2.2, 'Medium Loyalty')\n",
            "(44, 'Victoria Warren', 5, 5.6, 'Medium Loyalty')\n",
            "(45, 'Sarah Finley', 5, 2.6, 'Medium Loyalty')\n",
            "(46, 'Shelia Burgess', 5, 2.8, 'Medium Loyalty')\n",
            "(55, 'Ralph Robertson', 5, 2.6, 'Medium Loyalty')\n",
            "(60, 'Robert Warren', 5, 5.0, 'Medium Loyalty')\n",
            "(65, 'Tim Fry', 5, 3.4, 'Medium Loyalty')\n",
            "(69, 'Michael Rodriguez', 5, 2.6, 'Medium Loyalty')\n",
            "(77, 'Elizabeth Morgan', 5, 2.4, 'Medium Loyalty')\n",
            "(91, 'Gwendolyn Weaver', 5, 2.4, 'Medium Loyalty')\n",
            "(111, 'Patricia Stein', 5, 3.0, 'Medium Loyalty')\n",
            "(112, 'Mark Peterson', 5, 3.2, 'Medium Loyalty')\n",
            "(114, 'Joshua Young', 5, 2.6, 'Medium Loyalty')\n",
            "(128, 'Alfred Evans', 5, 6.4, 'Medium Loyalty')\n",
            "(137, 'Sheena Schultz', 5, 2.2, 'Medium Loyalty')\n",
            "(138, 'Donna Cobb', 5, 5.8, 'Medium Loyalty')\n",
            "(147, 'Jonathan Rodriguez', 5, 6.6, 'Medium Loyalty')\n",
            "(156, 'Julie Rivera', 5, 2.4, 'Medium Loyalty')\n",
            "(192, 'Gregory Thompson', 5, 2.8, 'Medium Loyalty')\n",
            "(203, 'Katherine Watson', 5, 2.0, 'Medium Loyalty')\n",
            "(210, 'Katie Lopez', 5, 1.8, 'Medium Loyalty')\n",
            "(213, 'Michael Howard', 5, 1.2, 'Medium Loyalty')\n",
            "(218, 'Joseph Rivera', 5, 1.8, 'Medium Loyalty')\n",
            "(220, 'Raven Hernandez', 5, 2.0, 'Medium Loyalty')\n",
            "(233, 'Bradley Sanders', 5, 2.2, 'Medium Loyalty')\n",
            "(235, 'Jacqueline Guerra', 5, 2.6, 'Medium Loyalty')\n",
            "(238, 'Adrian Adams', 5, 2.6, 'Medium Loyalty')\n",
            "(243, 'Tami Richardson', 5, 2.6, 'Medium Loyalty')\n",
            "(251, 'Timothy Wallace', 5, 1.8, 'Medium Loyalty')\n",
            "(252, 'Michael Ortega', 5, 2.0, 'Medium Loyalty')\n",
            "(263, 'Catherine Singleton', 5, 3.4, 'Medium Loyalty')\n",
            "(299, 'Mary Miles', 5, 1.6, 'Medium Loyalty')\n",
            "(3, 'Heather Duran', 4, 6.25, 'Medium Loyalty')\n",
            "(9, 'Doris Williams', 4, 3.25, 'Medium Loyalty')\n",
            "(25, 'Eric Rodgers', 4, 2.5, 'Medium Loyalty')\n",
            "(28, 'Roberta Jones', 4, 5.5, 'Medium Loyalty')\n",
            "(31, 'Matthew Richardson', 4, 2.25, 'Medium Loyalty')\n",
            "(33, 'John Sullivan', 4, 2.0, 'Medium Loyalty')\n",
            "(35, 'Tammy Mcmillan', 4, 6.25, 'Medium Loyalty')\n",
            "(37, 'Cody Lopez', 4, 2.5, 'Medium Loyalty')\n",
            "(63, 'Lauren Thomas', 4, 6.25, 'Medium Loyalty')\n",
            "(75, 'Thomas Wiggins', 4, 2.75, 'Medium Loyalty')\n",
            "(79, 'Courtney Garcia', 4, 3.5, 'Medium Loyalty')\n",
            "(86, 'Kevin Williams', 4, 2.5, 'Medium Loyalty')\n",
            "(87, 'Kathryn Beck', 4, 2.25, 'Medium Loyalty')\n",
            "(89, 'Diana Tyler', 4, 2.5, 'Medium Loyalty')\n",
            "(118, 'Dustin Williams', 4, 2.25, 'Medium Loyalty')\n",
            "(148, 'Bryan Carter', 4, 2.25, 'Medium Loyalty')\n",
            "(155, 'Jimmy Blake', 4, 2.5, 'Medium Loyalty')\n",
            "(158, 'Michelle Blake', 4, 3.0, 'Medium Loyalty')\n",
            "(162, 'Eric Henderson', 4, 3.25, 'Medium Loyalty')\n",
            "(164, 'Anne Martin', 4, 2.75, 'Medium Loyalty')\n",
            "(165, 'Melissa Reyes', 4, 6.5, 'Medium Loyalty')\n",
            "(202, 'Ian Ramsey', 4, 1.25, 'Medium Loyalty')\n",
            "(208, 'Kenneth Hester', 4, 2.25, 'Medium Loyalty')\n",
            "(212, 'Megan Carroll', 4, 2.25, 'Medium Loyalty')\n",
            "(214, 'Jeffrey Murphy', 4, 1.0, 'Medium Loyalty')\n",
            "(222, 'Stephen Powers', 4, 2.0, 'Medium Loyalty')\n",
            "(223, 'Ryan Mcguire', 4, 0.75, 'Medium Loyalty')\n",
            "(234, 'Eric Simmons', 4, 1.5, 'Medium Loyalty')\n",
            "(236, 'Jonathan Delacruz', 4, 1.0, 'Medium Loyalty')\n",
            "(237, 'Nathan Brown', 4, 1.0, 'Medium Loyalty')\n",
            "(241, 'Nathaniel Gibson', 4, 1.75, 'Medium Loyalty')\n",
            "(244, 'Stephanie Daugherty', 4, 2.5, 'Medium Loyalty')\n",
            "(245, 'Patricia Matthews', 4, 2.5, 'Medium Loyalty')\n",
            "(254, 'Jennifer Nelson', 4, 3.0, 'Medium Loyalty')\n",
            "(256, 'Brandon Peterson', 4, 3.0, 'Medium Loyalty')\n",
            "(269, 'Raymond Arroyo', 4, 1.0, 'Medium Loyalty')\n",
            "(271, 'Anna Wallace', 4, 1.25, 'Medium Loyalty')\n",
            "(280, 'Raven Johnson', 4, 1.0, 'Medium Loyalty')\n",
            "(282, 'Cheryl Harmon', 4, 1.75, 'Medium Loyalty')\n",
            "(288, 'Jessica Carter', 4, 2.25, 'Medium Loyalty')\n",
            "(291, 'Jason Gordon', 4, 1.5, 'Medium Loyalty')\n",
            "(294, 'William Taylor', 4, 0.75, 'Medium Loyalty')\n",
            "(2, 'Brian Hodge', 3, 2.33, 'Medium Loyalty')\n",
            "(7, 'Brianna Beasley', 3, 1.67, 'Medium Loyalty')\n",
            "(12, 'Penny Wiggins', 3, 3.0, 'Medium Loyalty')\n",
            "(19, 'Brittany Smith', 3, 2.0, 'Medium Loyalty')\n",
            "(20, 'Audrey Wood', 3, 2.33, 'Medium Loyalty')\n",
            "(29, 'Anthony Turner', 3, 3.33, 'Medium Loyalty')\n",
            "(36, 'Tony Jarvis', 3, 1.67, 'Medium Loyalty')\n",
            "(47, 'Robin Carney', 3, 2.0, 'Medium Loyalty')\n",
            "(57, 'Jeffrey Brown', 3, 2.33, 'Medium Loyalty')\n",
            "(73, 'Robert Armstrong', 3, 1.0, 'Medium Loyalty')\n",
            "(88, 'Cindy Hodges', 3, 2.0, 'Medium Loyalty')\n",
            "(99, 'George Wall', 3, 2.67, 'Medium Loyalty')\n",
            "(149, 'Kristin Crosby', 3, 1.67, 'Medium Loyalty')\n",
            "(151, 'Sarah Smith', 3, 3.0, 'Medium Loyalty')\n",
            "(174, 'Carrie Winters', 3, 3.33, 'Medium Loyalty')\n",
            "(181, 'Jeremiah Wilson', 3, 3.0, 'Medium Loyalty')\n",
            "(185, 'Amy Acevedo', 3, 2.67, 'Medium Loyalty')\n",
            "(196, 'Kathleen Williams', 3, 2.0, 'Medium Loyalty')\n",
            "(199, 'Kelly Preston', 3, 0.33, 'Medium Loyalty')\n",
            "(221, 'Cassandra Lloyd', 3, 2.33, 'Medium Loyalty')\n",
            "(227, 'Jennifer Taylor', 3, 1.67, 'Medium Loyalty')\n",
            "(246, 'Rebecca Flores', 3, 2.67, 'Medium Loyalty')\n",
            "(266, 'Erica Brown', 3, 1.33, 'Medium Loyalty')\n",
            "(292, 'Shane Wilkinson', 3, 2.0, 'Medium Loyalty')\n",
            "(293, 'Andrew Miller', 3, 1.67, 'Medium Loyalty')\n",
            "(297, 'Adriana Hart', 3, 1.67, 'Medium Loyalty')\n",
            "(43, 'Randall Moody', 2, 5.5, 'Medium Loyalty')\n",
            "(62, 'David Henry', 2, 4.0, 'Medium Loyalty')\n",
            "(71, 'Kimberly Kim', 2, 1.5, 'Medium Loyalty')\n",
            "(90, 'Wendy Rivera', 2, 3.5, 'Medium Loyalty')\n",
            "(93, 'James Ferguson', 2, 3.5, 'Medium Loyalty')\n",
            "(100, 'Cynthia Wagner', 2, 1.0, 'Medium Loyalty')\n",
            "(102, 'Brianna Sweeney', 2, 7.0, 'Medium Loyalty')\n",
            "(109, 'Cassandra Reeves', 2, 2.5, 'Medium Loyalty')\n",
            "(116, 'Amy Hill', 2, 1.5, 'Medium Loyalty')\n",
            "(124, 'Adam Jones', 2, 2.0, 'Medium Loyalty')\n",
            "(141, 'Todd Robertson', 2, 2.0, 'Medium Loyalty')\n",
            "(143, 'Elizabeth Ford', 2, 3.0, 'Medium Loyalty')\n",
            "(169, 'Pamela Greer', 2, 4.0, 'Medium Loyalty')\n",
            "(171, 'Joseph Lin', 2, 2.5, 'Medium Loyalty')\n",
            "(211, 'Shirley Gilbert', 2, 2.0, 'Medium Loyalty')\n",
            "(229, 'Catherine Cruz', 2, 4.0, 'Medium Loyalty')\n",
            "(277, 'Robert Allen', 2, 4.0, 'Medium Loyalty')\n",
            "(32, 'David Perry', 1, 4.0, 'Low Loyalty')\n",
            "(58, 'Michele Huff', 1, 3.0, 'Low Loyalty')\n",
            "(70, 'Steven Rivera', 1, 3.0, 'Low Loyalty')\n",
            "(76, 'David Moore', 1, 4.0, 'Low Loyalty')\n",
            "(81, 'Brianna Martin', 1, 4.0, 'Low Loyalty')\n",
            "(119, 'Dylan Foley', 1, 1.0, 'Low Loyalty')\n",
            "(160, 'Lisa Price', 1, 1.0, 'Low Loyalty')\n",
            "(163, 'Kristin Flowers', 1, 2.0, 'Low Loyalty')\n",
            "(219, 'Hannah Soto', 1, 1.0, 'Low Loyalty')\n",
            "(230, 'Yesenia Johnson', 1, 2.0, 'Low Loyalty')\n",
            "(247, 'Francisco Johnson', 1, 2.0, 'Low Loyalty')\n",
            "(273, 'Lucas Roy', 1, 1.0, 'Low Loyalty')\n"
          ]
        }
      ]
    },
    {
      "cell_type": "code",
      "source": [
        "# Import necessary libraries\n",
        "import pandas as pd\n",
        "import matplotlib.pyplot as plt\n",
        "import seaborn as sns\n",
        "\n",
        "# Load the dataset (update the file path if needed)\n",
        "file_path = \"complete_hotel_dataset.xlsx\"  # Update path if needed\n",
        "xls = pd.ExcelFile(file_path)\n",
        "\n",
        "# Load relevant sheets\n",
        "review_df = pd.read_excel(xls, sheet_name=\"REVIEW\")\n",
        "booking_df = pd.read_excel(xls, sheet_name=\"BOOKING\")\n",
        "customer_df = pd.read_excel(xls, sheet_name=\"CUSTOMER\")\n",
        "room_df = pd.read_excel(xls, sheet_name=\"ROOM\")\n",
        "hotel_df = pd.read_excel(xls, sheet_name=\"HOTEL\")\n",
        "\n",
        "# Mapping hotel branches to city names\n",
        "hotel_mapping = {\n",
        "    1: \"Edinburgh\",\n",
        "    2: \"London\",\n",
        "    3: \"Southampton\",\n",
        "    4: \"Manchester\",\n",
        "    5: \"Birmingham\"\n",
        "}\n",
        "\n",
        "### 1️⃣ Average Guest Feedback Per Branch ###\n",
        "# Merge review and booking tables to link satisfaction scores with hotel branches\n",
        "review_booking_df = review_df.merge(booking_df, on=\"Booking_id\", how=\"left\")\n",
        "review_booking_df = review_booking_df.merge(room_df, on=\"Room_id\", how=\"left\")\n",
        "review_booking_df = review_booking_df.merge(hotel_df, on=\"Hotel_id\", how=\"left\")\n",
        "\n",
        "# Compute average satisfaction score per hotel branch\n",
        "branch_satisfaction = review_booking_df.groupby(\"Hotel_id\")[\"Satisfaction_score\"].mean().reset_index()\n",
        "\n",
        "# Map Hotel IDs to City Names\n",
        "branch_satisfaction[\"Hotel_id\"] = branch_satisfaction[\"Hotel_id\"].map(hotel_mapping)\n",
        "\n",
        "# Plot Average Guest Feedback Per Branch\n",
        "plt.figure(figsize=(10, 5))\n",
        "sns.barplot(data=branch_satisfaction, x=\"Hotel_id\", y=\"Satisfaction_score\", palette=\"coolwarm\")\n",
        "plt.xlabel(\"Hotel Branch (City)\")\n",
        "plt.ylabel(\"Average Satisfaction Score\")\n",
        "plt.title(\"Average Guest Feedback Per Branch\")\n",
        "plt.xticks(rotation=45)\n",
        "plt.show()\n",
        "\n",
        "\n"
      ],
      "metadata": {
        "colab": {
          "base_uri": "https://localhost:8080/",
          "height": 636
        },
        "id": "v9NTYU8Ltwgj",
        "outputId": "32cba412-70a8-41a6-a6bf-50baa1191c79"
      },
      "execution_count": null,
      "outputs": [
        {
          "output_type": "stream",
          "name": "stderr",
          "text": [
            "<ipython-input-99-5de1e3970ce4>:40: FutureWarning: \n",
            "\n",
            "Passing `palette` without assigning `hue` is deprecated and will be removed in v0.14.0. Assign the `x` variable to `hue` and set `legend=False` for the same effect.\n",
            "\n",
            "  sns.barplot(data=branch_satisfaction, x=\"Hotel_id\", y=\"Satisfaction_score\", palette=\"coolwarm\")\n"
          ]
        },
        {
          "output_type": "display_data",
          "data": {
            "text/plain": [
              "<Figure size 1000x500 with 1 Axes>"
            ],
            "image/png": "[encoded data removed]"
          },
          "metadata": {}
        }
      ]
    },
    {
      "cell_type": "code",
      "source": [
        "# Load the dataset\n",
        "file_path = \"/content/complete_hotel_dataset (5).xlsx\"\n",
        "xls = pd.ExcelFile(file_path)\n",
        "\n",
        "# Load relevant sheets\n",
        "review_df = pd.read_excel(xls, sheet_name=\"REVIEW\")  # Guest satisfaction scores\n",
        "booking_df = pd.read_excel(xls, sheet_name=\"BOOKING\")  # Booking info (no Hotel_id)\n",
        "room_df = pd.read_excel(xls, sheet_name=\"ROOM\")  # Room details to get Hotel_id\n",
        "hotel_df = pd.read_excel(xls, sheet_name=\"HOTEL\")  # Hotel details\n",
        "site_df = pd.read_excel(xls, sheet_name=\"SITE\")  # Hotel location details\n",
        "\n",
        "# Print column names for debugging\n",
        "print(\"BOOKING columns:\", booking_df.columns)\n",
        "print(\"ROOM columns:\", room_df.columns)\n",
        "print(\"HOTEL columns:\", hotel_df.columns)\n",
        "\n",
        "# Merge review data with booking to get Room_id\n",
        "review_merged_df = review_df.merge(booking_df, on=\"Booking_id\", how=\"left\")\n",
        "\n",
        "# Merge with ROOM to get Hotel_id\n",
        "review_merged_df = review_merged_df.merge(room_df, on=\"Room_id\", how=\"left\")\n",
        "\n",
        "# Merge with HOTEL to get Site_id (Branch Information)\n",
        "review_merged_df = review_merged_df.merge(hotel_df, on=\"Hotel_id\", how=\"left\")\n",
        "\n",
        "# Merge with SITE to get Location (City Name)\n",
        "review_merged_df = review_merged_df.merge(site_df, on=\"Site_id\", how=\"left\")\n",
        "\n",
        "# Compute average guest satisfaction score per city (hotel branch)\n",
        "avg_review_by_city = review_merged_df.groupby(\"Location_city\")[\"Satisfaction_score\"].mean().reset_index()\n",
        "\n",
        "# Sort values in descending order for better visualization\n",
        "avg_review_by_city = avg_review_by_city.sort_values(by=\"Satisfaction_score\", ascending=False)\n",
        "\n",
        "# Define city-specific colors\n",
        "city_colors = {\n",
        "    \"Birmingham\": \"#7080D0\",  # Blue shade\n",
        "    \"Edinburgh\": \"#A9C5F2\",   # Light Blue shade\n",
        "    \"London\": \"#D0D0D0\",      # Grey shade\n",
        "    \"Manchester\": \"#E2AD91\",  # Light Brown shade\n",
        "    \"Southampton\": \"#C48068\"  # Darker Brown shade\n",
        "}\n",
        "\n",
        "# Ensure sorted order aligns with city colors\n",
        "palette_colors = [city_colors[city] if city in city_colors else \"#888888\" for city in avg_review_by_city[\"Location_city\"]]\n",
        "\n",
        "# Plot customer satisfaction score per branch\n",
        "plt.figure(figsize=(12, 6))\n",
        "sns.barplot(data=avg_review_by_city, x=\"Location_city\", y=\"Satisfaction_score\", palette=palette_colors)\n",
        "plt.xlabel(\"Hotel Branch (City)\")\n",
        "plt.ylabel(\"Average Customer Satisfaction Score\")\n",
        "plt.title(\"Customer Satisfaction Score Across Hotel Branches\")\n",
        "plt.xticks(rotation=45)\n",
        "plt.show()"
      ],
      "metadata": {
        "id": "mh7yh_gSsS6I",
        "outputId": "42b6efa1-42c7-4a10-e9ae-9831b46e1760",
        "colab": {
          "base_uri": "https://localhost:8080/",
          "height": 837
        }
      },
      "execution_count": null,
      "outputs": [
        {
          "output_type": "stream",
          "name": "stdout",
          "text": [
            "BOOKING columns: Index(['Booking_id', 'Room_id', 'Customer_id', 'Booking_date', 'Stay_purpose',\n",
            "       'Num_of_adult', 'Check_in_date', 'Check_out_date', 'Check_in_time',\n",
            "       'Check_out_time', 'Num_of_car', 'Booking_type'],\n",
            "      dtype='object')\n",
            "ROOM columns: Index(['Room_id', 'Hotel_id', 'Room_type', 'Room_rate'], dtype='object')\n",
            "HOTEL columns: Index(['Hotel_id', 'Site_id', 'Floor'], dtype='object')\n"
          ]
        },
        {
          "output_type": "stream",
          "name": "stderr",
          "text": [
            "<ipython-input-66-d4a8ff8fb384>:49: FutureWarning: \n",
            "\n",
            "Passing `palette` without assigning `hue` is deprecated and will be removed in v0.14.0. Assign the `x` variable to `hue` and set `legend=False` for the same effect.\n",
            "\n",
            "  sns.barplot(data=avg_review_by_city, x=\"Location_city\", y=\"Satisfaction_score\", palette=palette_colors)\n"
          ]
        },
        {
          "output_type": "display_data",
          "data": {
            "text/plain": [
              "<Figure size 1200x600 with 1 Axes>"
            ],
            "image/png": "[encoded data removed]"
          },
          "metadata": {}
        }
      ]
    },
    {
      "cell_type": "code",
      "source": [
        "# Load the dataset\n",
        "file_path = \"/content/complete_hotel_dataset (5).xlsx\"\n",
        "xls = pd.ExcelFile(file_path)\n",
        "\n",
        "# Load relevant sheets\n",
        "contract_df = pd.read_excel(xls, sheet_name=\"CONTRACT\")  # Contains salary and job type details\n",
        "employee_df = pd.read_excel(xls, sheet_name=\"EMPLOYEE\")  # Contains job type or department information\n",
        "\n",
        "# Print column names for debugging\n",
        "print(\"EMPLOYEE columns:\", employee_df.columns)\n",
        "\n",
        "# Find the correct column name for department\n",
        "department_column = \"Department\" if \"Department\" in employee_df.columns else \"Job_type\"  # Adjust based on correct column name\n",
        "\n",
        "# Merge contract data with employee data to get department details\n",
        "salary_department_df = contract_df.merge(employee_df, on=\"Employee_id\", how=\"left\")\n",
        "\n",
        "# Compute average salary per department\n",
        "avg_salary_by_department = salary_department_df.groupby(department_column)[\"Salary\"].mean().reset_index()\n",
        "\n",
        "# Sort values in descending order for better visualization\n",
        "avg_salary_by_department = avg_salary_by_department.sort_values(by=\"Salary\", ascending=False)\n",
        "\n",
        "# Plot average salary per department\n",
        "plt.figure(figsize=(12, 6))\n",
        "sns.barplot(data=avg_salary_by_department, x=department_column, y=\"Salary\", palette=\"coolwarm\")\n",
        "plt.xlabel(\"Department\")\n",
        "plt.ylabel(\"Average Salary (£)\")\n",
        "plt.title(\"Average Salary Across Departments\")\n",
        "plt.xticks(rotation=45)\n",
        "plt.show()"
      ],
      "metadata": {
        "colab": {
          "base_uri": "https://localhost:8080/",
          "height": 809
        },
        "id": "1m-djKnut-nc",
        "outputId": "0758d5da-94eb-4f31-95a4-1759754eb9b6"
      },
      "execution_count": null,
      "outputs": [
        {
          "output_type": "stream",
          "name": "stdout",
          "text": [
            "EMPLOYEE columns: Index(['Employee_id', 'Hotel_id', 'First_name', 'Surname', 'Gender', 'DOB'], dtype='object')\n"
          ]
        },
        {
          "output_type": "stream",
          "name": "stderr",
          "text": [
            "<ipython-input-67-39c35f3670ec>:26: FutureWarning: \n",
            "\n",
            "Passing `palette` without assigning `hue` is deprecated and will be removed in v0.14.0. Assign the `x` variable to `hue` and set `legend=False` for the same effect.\n",
            "\n",
            "  sns.barplot(data=avg_salary_by_department, x=department_column, y=\"Salary\", palette=\"coolwarm\")\n"
          ]
        },
        {
          "output_type": "display_data",
          "data": {
            "text/plain": [
              "<Figure size 1200x600 with 1 Axes>"
            ],
            "image/png": "[encoded data removed]"
          },
          "metadata": {}
        }
      ]
    },
    {
      "cell_type": "code",
      "source": [
        "# Load the dataset\n",
        "file_path = \"/content/complete_hotel_dataset (5).xlsx\"\n",
        "xls = pd.ExcelFile(file_path)\n",
        "\n",
        "# Load relevant sheets\n",
        "contract_df = pd.read_excel(xls, sheet_name=\"CONTRACT\")\n",
        "employee_df = pd.read_excel(xls, sheet_name=\"EMPLOYEE\")  # To get Hotel_id\n",
        "hotel_df = pd.read_excel(xls, sheet_name=\"HOTEL\")\n",
        "site_df = pd.read_excel(xls, sheet_name=\"SITE\")\n",
        "\n",
        "# Convert hire and end dates to datetime format\n",
        "contract_df[\"Hire_date\"] = pd.to_datetime(contract_df[\"Hire_date\"], errors=\"coerce\")\n",
        "contract_df[\"End_date\"] = pd.to_datetime(contract_df[\"End_date\"], errors=\"coerce\")\n",
        "\n",
        "# Merge contract data with employee data to get Hotel_id\n",
        "contract_merged_df = contract_df.merge(employee_df, on=\"Employee_id\", how=\"left\")\n",
        "\n",
        "# Merge with hotel and site details to get branch information\n",
        "contract_merged_df = contract_merged_df.merge(hotel_df, on=\"Hotel_id\", how=\"left\")\n",
        "contract_merged_df = contract_merged_df.merge(site_df, on=\"Site_id\", how=\"left\")\n",
        "\n",
        "# Determine currently working employees (End_date is NaN)\n",
        "active_employees = contract_merged_df[contract_merged_df[\"End_date\"].isna()]\n",
        "\n",
        "# Count active employees per branch\n",
        "active_employee_count = active_employees.groupby(\"Location_city\")[\"Employee_id\"].count().reset_index()\n",
        "active_employee_count.columns = [\"City\", \"Total Employees\"]\n",
        "\n",
        "# Define city-specific colors\n",
        "city_colors = {\n",
        "    \"London\": \"#D0D0D0\",      # Grey shade\n",
        "    \"Edinburgh\": \"#A9C5F2\",   # Light Blue shade\n",
        "    \"Southampton\": \"#C48068\",  # Dark Brown shade\n",
        "    \"Manchester\": \"#E2AD91\",  # Light Brown shade\n",
        "    \"Birmingham\": \"#7080D0\"  # Blue shade\n",
        "}\n",
        "\n",
        "# Ensure sorted order aligns with city colors\n",
        "palette_colors = [city_colors.get(city, \"#808080\") for city in active_employee_count[\"City\"]]\n",
        "\n",
        "# Plot active employees per branch in descending order\n",
        "plt.figure(figsize=(10, 6))\n",
        "sns.barplot(data=active_employee_count.sort_values(\"Total Employees\", ascending=False),\n",
        "            x=\"City\", y=\"Total Employees\", palette=palette_colors)\n",
        "plt.xlabel(\"Hotel Branch (City)\")\n",
        "plt.ylabel(\"Total Employees\")\n",
        "plt.title(\"Active Employees Across Branches\")\n",
        "plt.xticks(rotation=45)\n",
        "plt.show()"
      ],
      "metadata": {
        "colab": {
          "base_uri": "https://localhost:8080/",
          "height": 733
        },
        "id": "p44vxVBm8HIO",
        "outputId": "b4bc02a6-6ce6-4fac-e176-13ff898f6e91"
      },
      "execution_count": null,
      "outputs": [
        {
          "output_type": "stream",
          "name": "stderr",
          "text": [
            "<ipython-input-68-0cf806005d47>:43: FutureWarning: \n",
            "\n",
            "Passing `palette` without assigning `hue` is deprecated and will be removed in v0.14.0. Assign the `x` variable to `hue` and set `legend=False` for the same effect.\n",
            "\n",
            "  sns.barplot(data=active_employee_count.sort_values(\"Total Employees\", ascending=False),\n"
          ]
        },
        {
          "output_type": "display_data",
          "data": {
            "text/plain": [
              "<Figure size 1000x600 with 1 Axes>"
            ],
            "image/png": "[encoded data removed]"
          },
          "metadata": {}
        }
      ]
    },
    {
      "cell_type": "code",
      "source": [
        "# Load the dataset\n",
        "file_path = \"/content/complete_hotel_dataset (5).xlsx\"\n",
        "xls = pd.ExcelFile(file_path)\n",
        "\n",
        "# Load relevant sheets\n",
        "contract_df = pd.read_excel(xls, sheet_name=\"CONTRACT\")\n",
        "employee_df = pd.read_excel(xls, sheet_name=\"EMPLOYEE\")  # To get Hotel_id\n",
        "hotel_df = pd.read_excel(xls, sheet_name=\"HOTEL\")\n",
        "site_df = pd.read_excel(xls, sheet_name=\"SITE\")\n",
        "\n",
        "# Convert hire and end dates to datetime format\n",
        "contract_df[\"Hire_date\"] = pd.to_datetime(contract_df[\"Hire_date\"], errors=\"coerce\")\n",
        "contract_df[\"End_date\"] = pd.to_datetime(contract_df[\"End_date\"], errors=\"coerce\")\n",
        "\n",
        "# Merge contract data with employee data to get Hotel_id\n",
        "contract_merged_df = contract_df.merge(employee_df, on=\"Employee_id\", how=\"left\")\n",
        "\n",
        "# Merge with hotel and site details to get branch information\n",
        "contract_merged_df = contract_merged_df.merge(hotel_df, on=\"Hotel_id\", how=\"left\")\n",
        "contract_merged_df = contract_merged_df.merge(site_df, on=\"Site_id\", how=\"left\")\n",
        "\n",
        "# Determine employees who have left (End_date is NOT NaN)\n",
        "left_employees = contract_merged_df[contract_merged_df[\"End_date\"].notna()]\n",
        "\n",
        "# Count total employees per branch and employees who left\n",
        "total_employees_per_branch = contract_merged_df.groupby(\"Location_city\")[\"Employee_id\"].count()\n",
        "left_employees_per_branch = left_employees.groupby(\"Location_city\")[\"Employee_id\"].count()\n",
        "\n",
        "# Calculate turnover rate per branch\n",
        "turnover_rate = (left_employees_per_branch / total_employees_per_branch) * 100\n",
        "turnover_rate = turnover_rate.reset_index()\n",
        "turnover_rate.columns = [\"City\", \"Turnover Rate\"]\n",
        "\n",
        "# Define city-specific colors\n",
        "city_colors = {\n",
        "    \"London\": \"#D0D0D0\",      # Grey shade\n",
        "    \"Edinburgh\": \"#A9C5F2\",   # Light Blue shade\n",
        "    \"Southampton\": \"#C48068\",  # Dark Brown shade\n",
        "    \"Manchester\": \"#E2AD91\",  # Light Brown shade\n",
        "    \"Birmingham\": \"#7080D0\"  # Blue shade\n",
        "}\n",
        "\n",
        "# Ensure sorted order aligns with city colors\n",
        "palette_colors = [city_colors.get(city, \"#808080\") for city in turnover_rate[\"City\"]]\n",
        "\n",
        "# Plot turnover rate per branch\n",
        "plt.figure(figsize=(10, 6))\n",
        "sns.barplot(data=turnover_rate.sort_values(\"Turnover Rate\", ascending=False),\n",
        "            x=\"City\", y=\"Turnover Rate\", palette=palette_colors)\n",
        "plt.xlabel(\"Hotel Branch (City)\")\n",
        "plt.ylabel(\"Turnover Rate (%)\")\n",
        "plt.title(\"Employee Turnover Rate Across Branches\")\n",
        "plt.xticks(rotation=45)\n",
        "plt.show()"
      ],
      "metadata": {
        "id": "zkHV7UEu9BYS",
        "outputId": "337f9b8a-bb18-41ee-850f-a2d41f9c7c75",
        "colab": {
          "base_uri": "https://localhost:8080/",
          "height": 733
        }
      },
      "execution_count": null,
      "outputs": [
        {
          "output_type": "stream",
          "name": "stderr",
          "text": [
            "<ipython-input-69-911d20b6078b>:48: FutureWarning: \n",
            "\n",
            "Passing `palette` without assigning `hue` is deprecated and will be removed in v0.14.0. Assign the `x` variable to `hue` and set `legend=False` for the same effect.\n",
            "\n",
            "  sns.barplot(data=turnover_rate.sort_values(\"Turnover Rate\", ascending=False),\n"
          ]
        },
        {
          "output_type": "display_data",
          "data": {
            "text/plain": [
              "<Figure size 1000x600 with 1 Axes>"
            ],
            "image/png": "[encoded data removed]"
          },
          "metadata": {}
        }
      ]
    }
  ]
}